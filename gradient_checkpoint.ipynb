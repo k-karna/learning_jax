{
 "cells": [
  {
   "cell_type": "markdown",
   "metadata": {},
   "source": [
    "``jax.checkpint()`` (aliased ``jax.remat()``) helps control which intermediates are saved on the forward pass and which recomputed intermediates on the backward pass.\n",
    "\n",
    "With this, ``jax.grad(f)(x)`` forward pass stores jacobian coefficient and other intermediates values (residuals) to use during the backward pass."
   ]
  },
  {
   "cell_type": "code",
   "execution_count": 1,
   "metadata": {},
   "outputs": [
    {
     "name": "stdout",
     "output_type": "stream",
     "text": [
      "f32[5,4] from the argument W1\n",
      "f32[6,5] from the argument W2\n",
      "f32[7,6] from the argument W3\n",
      "f32[4] from the argument x\n",
      "f32[5] output of sin from C:\\Users\\konar\\AppData\\Local\\Temp\\ipykernel_19492\\2016089115.py:7 (g)\n",
      "f32[5] output of cos from C:\\Users\\konar\\AppData\\Local\\Temp\\ipykernel_19492\\2016089115.py:7 (g)\n",
      "f32[6] output of sin from C:\\Users\\konar\\AppData\\Local\\Temp\\ipykernel_19492\\2016089115.py:7 (g)\n",
      "f32[6] output of cos from C:\\Users\\konar\\AppData\\Local\\Temp\\ipykernel_19492\\2016089115.py:7 (g)\n",
      "f32[7] output of cos from C:\\Users\\konar\\AppData\\Local\\Temp\\ipykernel_19492\\2016089115.py:7 (g)\n"
     ]
    }
   ],
   "source": [
    "import jax \n",
    "import jax.ad_checkpoint\n",
    "import jax.numpy as jnp \n",
    "\n",
    "def g(W, x):\n",
    "    y = jnp.dot(W, x)\n",
    "    return jnp.sin(y)\n",
    "\n",
    "def f(W1, W2, W3, x):\n",
    "    x = g(W1, x)\n",
    "    x = g(W2, x)\n",
    "    x = g(W3, x)\n",
    "    return x \n",
    "\n",
    "W1 = jnp.ones((5,4))\n",
    "W2 = jnp.ones((6, 5))\n",
    "W3 = jnp.ones((7, 6))\n",
    "x = jnp.ones(4)\n",
    "\n",
    "# Inspecting the RESIDUAL values to be saved on the forward pass\n",
    "# if you were to evaluate jax.grad(f)(W1, W2, W3, x)\n",
    "\n",
    "from jax.ad_checkpoint import print_saved_residuals\n",
    "jax.ad_checkpoint.print_saved_residuals(f, W1, W2, W3, x)"
   ]
  },
  {
   "cell_type": "markdown",
   "metadata": {},
   "source": [
    "By applying ``jax.checkpint()`` to sub-functions, as a decorator or at specific application sites, you force JAX not to save any of that sub-functions residual."
   ]
  },
  {
   "cell_type": "code",
   "execution_count": 2,
   "metadata": {},
   "outputs": [
    {
     "name": "stdout",
     "output_type": "stream",
     "text": [
      "f32[5,4] from the argument W1\n",
      "f32[6,5] from the argument W2\n",
      "f32[7,6] from the argument W3\n",
      "f32[4] from the argument x\n",
      "f32[5] output of sin from C:\\Users\\konar\\AppData\\Local\\Temp\\ipykernel_19492\\2016089115.py:7 (g)\n",
      "f32[6] output of sin from C:\\Users\\konar\\AppData\\Local\\Temp\\ipykernel_19492\\2016089115.py:7 (g)\n"
     ]
    }
   ],
   "source": [
    "def f2(W1, W2, W3, x):\n",
    "    x = jax.checkpoint(g)(W1, x)\n",
    "    x = jax.checkpoint(g)(W2, x)\n",
    "    x = jax.checkpoint(g)(W3, x)\n",
    "    return x \n",
    "jax.ad_checkpoint.print_saved_residuals(f2, W1, W2, W3, x)"
   ]
  },
  {
   "cell_type": "markdown",
   "metadata": {},
   "source": [
    "To control which values are saveable without having to edit the definition of the function to be differentiated, __rematerialization policy__ can be used.\n",
    "\n",
    "It saves only the results of ``dot`` operation with __no batch dimensions__"
   ]
  },
  {
   "cell_type": "code",
   "execution_count": 3,
   "metadata": {},
   "outputs": [
    {
     "name": "stdout",
     "output_type": "stream",
     "text": [
      "f32[5,4] from the argument W1\n",
      "f32[6,5] from the argument W2\n",
      "f32[7,6] from the argument W3\n",
      "f32[4] from the argument x\n",
      "f32[5] output of dot_general from C:\\Users\\konar\\AppData\\Local\\Temp\\ipykernel_19492\\2016089115.py:6 (g)\n",
      "f32[6] output of dot_general from C:\\Users\\konar\\AppData\\Local\\Temp\\ipykernel_19492\\2016089115.py:6 (g)\n",
      "f32[7] output of dot_general from C:\\Users\\konar\\AppData\\Local\\Temp\\ipykernel_19492\\2016089115.py:6 (g)\n"
     ]
    }
   ],
   "source": [
    "f3 = jax.checkpoint(f, policy=jax.checkpoint_policies.dots_with_no_batch_dims_saveable)\n",
    "jax.ad_checkpoint.print_saved_residuals(f3, W1, W2, W3, x)"
   ]
  },
  {
   "cell_type": "markdown",
   "metadata": {},
   "source": [
    "``policies`` can also be used to refer to intermediate values that needs saving. It is done by naming them using ``jax.ad_checkpoint.checkpoint_name()``"
   ]
  },
  {
   "cell_type": "code",
   "execution_count": 4,
   "metadata": {},
   "outputs": [
    {
     "name": "stdout",
     "output_type": "stream",
     "text": [
      "f32[5,4] from the argument W1\n",
      "f32[6,5] from the argument W2\n",
      "f32[7,6] from the argument W3\n",
      "f32[4] from the argument x\n",
      "f32[5] named 'a' from C:\\Users\\konar\\AppData\\Local\\Temp\\ipykernel_19492\\1817552606.py:4 (f4)\n"
     ]
    }
   ],
   "source": [
    "from jax.ad_checkpoint import checkpoint_name \n",
    "\n",
    "def f4(W1, W2, W3, x):\n",
    "    x = checkpoint_name(g(W1, x), name='a')\n",
    "    x = checkpoint_name(g(W2, x), name='b')\n",
    "    x = checkpoint_name(g(W3, x), name='c')\n",
    "    return x \n",
    "\n",
    "f4 = jax.checkpoint(f4, policy=jax.checkpoint_policies.save_only_these_names('a'))\n",
    "jax.ad_checkpoint.print_saved_residuals(f4, W1, W2, W3, x)"
   ]
  },
  {
   "cell_type": "markdown",
   "metadata": {},
   "source": [
    "To get closer look at what's going on using a custom ``print_fwd_bwd`` utility"
   ]
  },
  {
   "cell_type": "code",
   "execution_count": 5,
   "metadata": {},
   "outputs": [],
   "source": [
    "from jax.tree_util import tree_flatten, tree_unflatten \n",
    "\n",
    "from rich.console import Console \n",
    "import rich.jupyter\n",
    "from rich.table import Table \n",
    "import rich.text \n",
    "\n",
    "def print_fwd_bwd(f, *args, **kwargs) -> None:\n",
    "    args, in_tree = tree_flatten((args, kwargs))\n",
    "\n",
    "    def f_(*args):\n",
    "        args, kwargs = tree_unflatten(in_tree, args)\n",
    "        return f(*args, **kwargs)\n",
    "    \n",
    "    fwd = jax.make_jaxpr(lambda *args: jax.vjp(f_, *args))(*args).jaxpr\n",
    "    y, f_vjp = jax.vjp(f_, *args)\n",
    "    res, in_tree = tree_flatten(f_vjp)\n",
    "\n",
    "    def g_(*args):\n",
    "        *res, y = args \n",
    "        f_vjp = tree_unflatten(in_tree, res)\n",
    "        return f_vjp(y)\n",
    "    \n",
    "    bwd = jax.make_jaxpr(g_)(*res, y).jaxpr \n",
    "\n",
    "    table = Table(show_header= False, show_lines= True, padding=(1, 2, 0, 2), box=None)\n",
    "    table.add_row(\"[bold green]forward computation:\",\n",
    "                  \"[bold green]backward computation:\")\n",
    "    table.add_row(rich.text.Text.from_ansi(str(fwd)),\n",
    "                  rich.text.Text.from_ansi(str(bwd)))\n",
    "    console = Console(width=240, force_jupyter=True)\n",
    "    console.print(table)\n",
    "\n",
    "def _renderable_repr(self):\n",
    "    return self.html\n",
    "rich.jupyter.JupyterRenderable._repr_html_ = _renderable_repr\n"
   ]
  },
  {
   "cell_type": "code",
   "execution_count": 6,
   "metadata": {},
   "outputs": [
    {
     "data": {
      "text/html": [
       "<pre style=\"white-space:pre;overflow-x:auto;line-height:normal;font-family:Menlo,'DejaVu Sans Mono',consolas,'Courier New',monospace\">                                                                                                                                                         \n",
       "  <span style=\"color: #008000; text-decoration-color: #008000; font-weight: bold\">forward computation:</span>                                         <span style=\"color: #008000; text-decoration-color: #008000; font-weight: bold\">backward computation:</span>                                                                     \n",
       "                                                                                                                                                         \n",
       "  { lambda ; a:f32[5,4] b:f32[6,5] c:f32[7,6] d:f32[4]. let    { lambda ; a:f32[4] b:f32[5,4] c:f32[5] d:f32[5] e:f32[6,5] f:f32[6] g:f32[6] h:f32[7,6]  \n",
       "      e:f32[5] = dot_general[                                      i:f32[7] j:f32[7]. let                                                                \n",
       "        dimension_numbers=(([1], [0]), ([], []))                   k:f32[7] = mul j i                                                                    \n",
       "        preferred_element_type=float32                             l:f32[6] = dot_general[                                                               \n",
       "      ] a d                                                          dimension_numbers=(([0], [0]), ([], []))                                            \n",
       "      f:f32[5] = sin e                                               preferred_element_type=float32                                                      \n",
       "      g:f32[5] = cos e                                             ] k h                                                                                 \n",
       "      h:f32[6] = dot_general[                                      m:f32[7,6] = dot_general[                                                             \n",
       "        dimension_numbers=(([1], [0]), ([], []))                     dimension_numbers=(([], []), ([], []))                                              \n",
       "        preferred_element_type=float32                               preferred_element_type=float32                                                      \n",
       "      ] b f                                                        ] k g                                                                                 \n",
       "      i:f32[6] = sin h                                             n:f32[6] = mul l f                                                                    \n",
       "      j:f32[6] = cos h                                             o:f32[5] = dot_general[                                                               \n",
       "      k:f32[7] = dot_general[                                        dimension_numbers=(([0], [0]), ([], []))                                            \n",
       "        dimension_numbers=(([1], [0]), ([], []))                     preferred_element_type=float32                                                      \n",
       "        preferred_element_type=float32                             ] n e                                                                                 \n",
       "      ] c i                                                        p:f32[6,5] = dot_general[                                                             \n",
       "      l:f32[7] = sin k                                               dimension_numbers=(([], []), ([], []))                                              \n",
       "      m:f32[7] = cos k                                               preferred_element_type=float32                                                      \n",
       "    in (l, d, a, g, f, b, j, i, c, m) }                            ] n d                                                                                 \n",
       "                                                                   q:f32[5] = mul o c                                                                    \n",
       "                                                                   r:f32[4] = dot_general[                                                               \n",
       "                                                                     dimension_numbers=(([0], [0]), ([], []))                                            \n",
       "                                                                     preferred_element_type=float32                                                      \n",
       "                                                                   ] q b                                                                                 \n",
       "                                                                   s:f32[5,4] = dot_general[                                                             \n",
       "                                                                     dimension_numbers=(([], []), ([], []))                                              \n",
       "                                                                     preferred_element_type=float32                                                      \n",
       "                                                                   ] q a                                                                                 \n",
       "                                                                 in (s, p, m, r) }                                                                       \n",
       "</pre>\n"
      ],
      "text/plain": [
       "                                                                                                                                                         \n",
       "  \u001b[1;32mforward computation:\u001b[0m                                         \u001b[1;32mbackward computation:\u001b[0m                                                                     \n",
       "                                                                                                                                                         \n",
       "  { lambda ; a:f32[5,4] b:f32[6,5] c:f32[7,6] d:f32[4]. let    { lambda ; a:f32[4] b:f32[5,4] c:f32[5] d:f32[5] e:f32[6,5] f:f32[6] g:f32[6] h:f32[7,6]  \n",
       "      e:f32[5] = dot_general[                                      i:f32[7] j:f32[7]. let                                                                \n",
       "        dimension_numbers=(([1], [0]), ([], []))                   k:f32[7] = mul j i                                                                    \n",
       "        preferred_element_type=float32                             l:f32[6] = dot_general[                                                               \n",
       "      ] a d                                                          dimension_numbers=(([0], [0]), ([], []))                                            \n",
       "      f:f32[5] = sin e                                               preferred_element_type=float32                                                      \n",
       "      g:f32[5] = cos e                                             ] k h                                                                                 \n",
       "      h:f32[6] = dot_general[                                      m:f32[7,6] = dot_general[                                                             \n",
       "        dimension_numbers=(([1], [0]), ([], []))                     dimension_numbers=(([], []), ([], []))                                              \n",
       "        preferred_element_type=float32                               preferred_element_type=float32                                                      \n",
       "      ] b f                                                        ] k g                                                                                 \n",
       "      i:f32[6] = sin h                                             n:f32[6] = mul l f                                                                    \n",
       "      j:f32[6] = cos h                                             o:f32[5] = dot_general[                                                               \n",
       "      k:f32[7] = dot_general[                                        dimension_numbers=(([0], [0]), ([], []))                                            \n",
       "        dimension_numbers=(([1], [0]), ([], []))                     preferred_element_type=float32                                                      \n",
       "        preferred_element_type=float32                             ] n e                                                                                 \n",
       "      ] c i                                                        p:f32[6,5] = dot_general[                                                             \n",
       "      l:f32[7] = sin k                                               dimension_numbers=(([], []), ([], []))                                              \n",
       "      m:f32[7] = cos k                                               preferred_element_type=float32                                                      \n",
       "    in (l, d, a, g, f, b, j, i, c, m) }                            ] n d                                                                                 \n",
       "                                                                   q:f32[5] = mul o c                                                                    \n",
       "                                                                   r:f32[4] = dot_general[                                                               \n",
       "                                                                     dimension_numbers=(([0], [0]), ([], []))                                            \n",
       "                                                                     preferred_element_type=float32                                                      \n",
       "                                                                   ] q b                                                                                 \n",
       "                                                                   s:f32[5,4] = dot_general[                                                             \n",
       "                                                                     dimension_numbers=(([], []), ([], []))                                              \n",
       "                                                                     preferred_element_type=float32                                                      \n",
       "                                                                   ] q a                                                                                 \n",
       "                                                                 in (s, p, m, r) }                                                                       \n"
      ]
     },
     "metadata": {},
     "output_type": "display_data"
    }
   ],
   "source": [
    "#without using jax.checkpoint\n",
    "print_fwd_bwd(f, W1, W2, W3, x)"
   ]
  },
  {
   "cell_type": "code",
   "execution_count": 7,
   "metadata": {},
   "outputs": [
    {
     "data": {
      "text/html": [
       "<pre style=\"white-space:pre;overflow-x:auto;line-height:normal;font-family:Menlo,'DejaVu Sans Mono',consolas,'Courier New',monospace\">                                                                                                                                                              \n",
       "  <span style=\"color: #008000; text-decoration-color: #008000; font-weight: bold\">forward computation:</span>                                         <span style=\"color: #008000; text-decoration-color: #008000; font-weight: bold\">backward computation:</span>                                                                          \n",
       "                                                                                                                                                              \n",
       "  { lambda ; a:f32[5,4] b:f32[6,5] c:f32[7,6] d:f32[4]. let    { lambda ; a:f32[5] b:f32[6] c:f32[7] d:f32[5,4] e:f32[6,5] f:f32[7,6] g:f32[4] h:f32[7]. let  \n",
       "      e:f32[5] = dot_general[                                      i:f32[5,4] j:f32[6,5] k:f32[7,6] l:f32[4] = remat2[                                        \n",
       "        dimension_numbers=(([1], [0]), ([], []))                     differentiated=True                                                                      \n",
       "        preferred_element_type=float32                               jaxpr={ lambda ; m:f32[5] n:f32[6] o:f32[7] p:f32[5,4] q:f32[6,5] r:f32[7,6]             \n",
       "      ] a d                                                              s:f32[4] t:f32[7]. let                                                               \n",
       "      f:f32[5] = sin e                                                   u:f32[5] = sin m                                                                     \n",
       "      g:f32[6] = dot_general[                                            v:f32[5] = cos m                                                                     \n",
       "        dimension_numbers=(([1], [0]), ([], []))                         w:f32[6] = sin n                                                                     \n",
       "        preferred_element_type=float32                                   x:f32[6] = cos n                                                                     \n",
       "      ] b f                                                              y:f32[7] = cos o                                                                     \n",
       "      h:f32[6] = sin g                                                   z:f32[7] = mul t y                                                                   \n",
       "      i:f32[7] = dot_general[                                            ba:f32[6] = dot_general[                                                             \n",
       "        dimension_numbers=(([1], [0]), ([], []))                           dimension_numbers=(([0], [0]), ([], []))                                           \n",
       "        preferred_element_type=float32                                     preferred_element_type=float32                                                     \n",
       "      ] c h                                                              ] z r                                                                                \n",
       "      j:f32[7] = sin i                                                   bb:f32[6] = mul ba x                                                                 \n",
       "    in (j, e, g, i, a, b, c, d) }                                        bc:f32[5] = dot_general[                                                             \n",
       "                                                                           dimension_numbers=(([0], [0]), ([], []))                                           \n",
       "                                                                           preferred_element_type=float32                                                     \n",
       "                                                                         ] bb q                                                                               \n",
       "                                                                         bd:f32[5] = mul bc v                                                                 \n",
       "                                                                         be:f32[4] = dot_general[                                                             \n",
       "                                                                           dimension_numbers=(([0], [0]), ([], []))                                           \n",
       "                                                                           preferred_element_type=float32                                                     \n",
       "                                                                         ] bd p                                                                               \n",
       "                                                                         bf:f32[5,4] = dot_general[                                                           \n",
       "                                                                           dimension_numbers=(([], []), ([], []))                                             \n",
       "                                                                           preferred_element_type=float32                                                     \n",
       "                                                                         ] bd s                                                                               \n",
       "                                                                         bg:f32[6,5] = dot_general[                                                           \n",
       "                                                                           dimension_numbers=(([], []), ([], []))                                             \n",
       "                                                                           preferred_element_type=float32                                                     \n",
       "                                                                         ] bb u                                                                               \n",
       "                                                                         bh:f32[7,6] = dot_general[                                                           \n",
       "                                                                           dimension_numbers=(([], []), ([], []))                                             \n",
       "                                                                           preferred_element_type=float32                                                     \n",
       "                                                                         ] z w                                                                                \n",
       "                                                                       in (bf, bg, bh, be) }                                                                  \n",
       "                                                                     policy=&lt;function dot_with_no_batch_dims_saveable at 0x0000019EDA6DBDC0&gt;                  \n",
       "                                                                     prevent_cse=True                                                                         \n",
       "                                                                   ] a b c d e f g h                                                                          \n",
       "                                                                 in (i, j, k, l) }                                                                            \n",
       "</pre>\n"
      ],
      "text/plain": [
       "                                                                                                                                                              \n",
       "  \u001b[1;32mforward computation:\u001b[0m                                         \u001b[1;32mbackward computation:\u001b[0m                                                                          \n",
       "                                                                                                                                                              \n",
       "  { lambda ; a:f32[5,4] b:f32[6,5] c:f32[7,6] d:f32[4]. let    { lambda ; a:f32[5] b:f32[6] c:f32[7] d:f32[5,4] e:f32[6,5] f:f32[7,6] g:f32[4] h:f32[7]. let  \n",
       "      e:f32[5] = dot_general[                                      i:f32[5,4] j:f32[6,5] k:f32[7,6] l:f32[4] = remat2[                                        \n",
       "        dimension_numbers=(([1], [0]), ([], []))                     differentiated=True                                                                      \n",
       "        preferred_element_type=float32                               jaxpr={ lambda ; m:f32[5] n:f32[6] o:f32[7] p:f32[5,4] q:f32[6,5] r:f32[7,6]             \n",
       "      ] a d                                                              s:f32[4] t:f32[7]. let                                                               \n",
       "      f:f32[5] = sin e                                                   u:f32[5] = sin m                                                                     \n",
       "      g:f32[6] = dot_general[                                            v:f32[5] = cos m                                                                     \n",
       "        dimension_numbers=(([1], [0]), ([], []))                         w:f32[6] = sin n                                                                     \n",
       "        preferred_element_type=float32                                   x:f32[6] = cos n                                                                     \n",
       "      ] b f                                                              y:f32[7] = cos o                                                                     \n",
       "      h:f32[6] = sin g                                                   z:f32[7] = mul t y                                                                   \n",
       "      i:f32[7] = dot_general[                                            ba:f32[6] = dot_general[                                                             \n",
       "        dimension_numbers=(([1], [0]), ([], []))                           dimension_numbers=(([0], [0]), ([], []))                                           \n",
       "        preferred_element_type=float32                                     preferred_element_type=float32                                                     \n",
       "      ] c h                                                              ] z r                                                                                \n",
       "      j:f32[7] = sin i                                                   bb:f32[6] = mul ba x                                                                 \n",
       "    in (j, e, g, i, a, b, c, d) }                                        bc:f32[5] = dot_general[                                                             \n",
       "                                                                           dimension_numbers=(([0], [0]), ([], []))                                           \n",
       "                                                                           preferred_element_type=float32                                                     \n",
       "                                                                         ] bb q                                                                               \n",
       "                                                                         bd:f32[5] = mul bc v                                                                 \n",
       "                                                                         be:f32[4] = dot_general[                                                             \n",
       "                                                                           dimension_numbers=(([0], [0]), ([], []))                                           \n",
       "                                                                           preferred_element_type=float32                                                     \n",
       "                                                                         ] bd p                                                                               \n",
       "                                                                         bf:f32[5,4] = dot_general[                                                           \n",
       "                                                                           dimension_numbers=(([], []), ([], []))                                             \n",
       "                                                                           preferred_element_type=float32                                                     \n",
       "                                                                         ] bd s                                                                               \n",
       "                                                                         bg:f32[6,5] = dot_general[                                                           \n",
       "                                                                           dimension_numbers=(([], []), ([], []))                                             \n",
       "                                                                           preferred_element_type=float32                                                     \n",
       "                                                                         ] bb u                                                                               \n",
       "                                                                         bh:f32[7,6] = dot_general[                                                           \n",
       "                                                                           dimension_numbers=(([], []), ([], []))                                             \n",
       "                                                                           preferred_element_type=float32                                                     \n",
       "                                                                         ] z w                                                                                \n",
       "                                                                       in (bf, bg, bh, be) }                                                                  \n",
       "                                                                     policy=<function dot_with_no_batch_dims_saveable at 0x0000019EDA6DBDC0>                  \n",
       "                                                                     prevent_cse=True                                                                         \n",
       "                                                                   ] a b c d e f g h                                                                          \n",
       "                                                                 in (i, j, k, l) }                                                                            \n"
      ]
     },
     "metadata": {},
     "output_type": "display_data"
    }
   ],
   "source": [
    "# Using `jax.checkpoint` with policy=jax.checkpoint_policies.dots_with_no_batch_dims_saveable:\n",
    "print_fwd_bwd(f3, W1, W2, W3, x)"
   ]
  },
  {
   "cell_type": "markdown",
   "metadata": {},
   "source": [
    "Applying ``jax.jit()`` to a functions that contains  ``jax.grad()`` call - XLA will automatically optimize the computation, including decision about when to compute or rematerialize values.\n",
    "\n",
    "As a result, ``jax.checkpoint()`` __often is not needed for differentiated functions udner a ``jax.jit()``__. "
   ]
  },
  {
   "cell_type": "code",
   "execution_count": null,
   "metadata": {},
   "outputs": [],
   "source": []
  }
 ],
 "metadata": {
  "kernelspec": {
   "display_name": "ml_env",
   "language": "python",
   "name": "python3"
  },
  "language_info": {
   "codemirror_mode": {
    "name": "ipython",
    "version": 3
   },
   "file_extension": ".py",
   "mimetype": "text/x-python",
   "name": "python",
   "nbconvert_exporter": "python",
   "pygments_lexer": "ipython3",
   "version": "3.9.9"
  }
 },
 "nbformat": 4,
 "nbformat_minor": 2
}
