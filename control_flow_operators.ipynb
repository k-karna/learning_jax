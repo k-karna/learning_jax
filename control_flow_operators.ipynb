{
 "cells": [
  {
   "cell_type": "markdown",
   "metadata": {},
   "source": [
    "In __control flow__ graph, if the path depends on the values of the inputs, the function cannot be JIT-compiled.\n",
    "\n",
    "But when the path depends on the __shape__ or __dtype__ of the inputs, function is re-compiled every time it is called."
   ]
  },
  {
   "cell_type": "code",
   "execution_count": 25,
   "metadata": {},
   "outputs": [],
   "source": [
    "from jax import grad, jit\n",
    "import jax.numpy as jnp"
   ]
  },
  {
   "cell_type": "code",
   "execution_count": 26,
   "metadata": {},
   "outputs": [
    {
     "name": "stdout",
     "output_type": "stream",
     "text": [
      "24\n"
     ]
    }
   ],
   "source": [
    "@jit \n",
    "def f(x):\n",
    "    for i in range(3):\n",
    "        x = 2*x\n",
    "    return x\n",
    "print(f(3))"
   ]
  },
  {
   "cell_type": "code",
   "execution_count": 27,
   "metadata": {},
   "outputs": [
    {
     "name": "stdout",
     "output_type": "stream",
     "text": [
      "6.0\n"
     ]
    }
   ],
   "source": [
    "@jit \n",
    "def g(x):\n",
    "    y = 0. \n",
    "    for i in range(x.shape[0]):\n",
    "        y = y + x[i]\n",
    "    return y\n",
    "print(g(jnp.array([1., 2., 3.])))"
   ]
  },
  {
   "cell_type": "code",
   "execution_count": 28,
   "metadata": {},
   "outputs": [],
   "source": [
    "# #These will throw errors\n",
    "# @jit \n",
    "# def f(x):\n",
    "#     if x <3:\n",
    "#         return 3*x ** 2\n",
    "#     else:\n",
    "#         return - 4 * x \n",
    "# f(2) #TracerBoolConversionError\n",
    "\n",
    "\n",
    "# @jit \n",
    "# def g(x):\n",
    "#     return (x >0) and (x <3)\n",
    "# g(2) #tracerboolconversionerror"
   ]
  },
  {
   "cell_type": "markdown",
   "metadata": {},
   "source": [
    "JIT-compilation uses compiled function for multiple evaluations. It traces compiled function using __abstract values__ instead of concrete values. \n",
    "\n",
    "Specifically, it uses ``ShapedArray`` which represent the set of all arrays with fixed __shape__ and __dtype__ \n",
    "\n",
    "For example:\n",
    "- ``ShapedArray((3,), jnp.float32)`` represents all arrays of shape ``(3,)`` and dtype ``float32``\n",
    "- ``ShapedArray((), jnp.float32)`` represents all scalar arrays of dtype ``float32``"
   ]
  },
  {
   "cell_type": "code",
   "execution_count": 29,
   "metadata": {},
   "outputs": [
    {
     "name": "stdout",
     "output_type": "stream",
     "text": [
      "[1. 4. 9.]\n",
      "[16. 25. 36.]\n"
     ]
    }
   ],
   "source": [
    "@jit\n",
    "def f(x):\n",
    "  return x ** 2\n",
    "\n",
    "# First call compiles the function\n",
    "result1 = f(jnp.array([1., 2., 3.], dtype=jnp.float32))\n",
    "print(result1)\n",
    "# Second call reuses the compiled code\n",
    "result2 = f(jnp.array([4., 5., 6.], dtype=jnp.float32))\n",
    "print(result2)"
   ]
  },
  {
   "cell_type": "markdown",
   "metadata": {},
   "source": [
    "__Trade-Off Abstraction vs Traceability__\n",
    "\n",
    "If the function contains control flow that depends on __runtime values__, JAX cannot trace the function because the abstract value ``ShapedArray`` does not represent a specific concrete value"
   ]
  },
  {
   "cell_type": "code",
   "execution_count": 30,
   "metadata": {},
   "outputs": [],
   "source": [
    "# @jax.jit\n",
    "# def f(x):\n",
    "#   if x < 3:  # x is a ShapedArray((), jnp.float32), not a concrete value\n",
    "#     return 3. * x ** 2\n",
    "#   else:\n",
    "#     return -4 * x\n",
    "\n",
    "# f(2.0)  # Raises TracerBoolConversionError"
   ]
  },
  {
   "cell_type": "markdown",
   "metadata": {},
   "source": [
    "Here, ``x <3`` evaluated to the abstract ``ShapedArray((), jnp.bool_)`` which represent the set as ``{True, False}`` JAX cannot decide which branch to follow because value of $x$ is not concrete"
   ]
  },
  {
   "cell_type": "markdown",
   "metadata": {},
   "source": [
    "This problem, though, can be handled with ``static_argnames`` and ``static_argnums``. These two allows certain arguments to be treated as __static__"
   ]
  },
  {
   "cell_type": "code",
   "execution_count": 31,
   "metadata": {},
   "outputs": [
    {
     "name": "stdout",
     "output_type": "stream",
     "text": [
      "12.0\n"
     ]
    }
   ],
   "source": [
    "def f(x):\n",
    "  if x < 3:\n",
    "    return 3. * x ** 2\n",
    "  else:\n",
    "    return -4 * x\n",
    "\n",
    "f = jit(f, static_argnames='x')\n",
    "\n",
    "print(f(2.))"
   ]
  },
  {
   "cell_type": "markdown",
   "metadata": {},
   "source": [
    "Similarly, ``static_argnames`` can be used to treat the loop bound as a static value. This causes the loop to be unrolled at compile time."
   ]
  },
  {
   "cell_type": "code",
   "execution_count": 32,
   "metadata": {},
   "outputs": [
    {
     "name": "stdout",
     "output_type": "stream",
     "text": [
      "5.0\n"
     ]
    }
   ],
   "source": [
    "def f(x, n):\n",
    "  y = 0.0\n",
    "  for i in range(n):  # n is a runtime value\n",
    "    y = y + x[i]\n",
    "  return y\n",
    "\n",
    "# Use static_argnames to treat 'n' as a static value\n",
    "f_jitted = jit(f, static_argnames='n')\n",
    "\n",
    "result = f_jitted(jnp.array([2., 3., 4.]), 2)\n",
    "print(result)  # Output: 5.0"
   ]
  },
  {
   "cell_type": "markdown",
   "metadata": {},
   "source": [
    "#### Structured Control Flow Primitives"
   ]
  },
  {
   "cell_type": "markdown",
   "metadata": {},
   "source": [
    "- ``lax.cond`` differentiable"
   ]
  },
  {
   "cell_type": "code",
   "execution_count": 33,
   "metadata": {},
   "outputs": [],
   "source": [
    "#python equivalent\n",
    "def cond(pred, true_fun, false_fun, arg):\n",
    "  if pred:\n",
    "    return true_fun(arg)\n",
    "  else:\n",
    "    return false_fun(arg)"
   ]
  },
  {
   "cell_type": "code",
   "execution_count": 35,
   "metadata": {},
   "outputs": [
    {
     "data": {
      "text/plain": [
       "Array([-1.], dtype=float32)"
      ]
     },
     "execution_count": 35,
     "metadata": {},
     "output_type": "execute_result"
    }
   ],
   "source": [
    "from jax import lax \n",
    "\n",
    "operand = jnp.array([0.])\n",
    "lax.cond(True, lambda x: x+1, lambda x: x-1, operand) #Output: DeviceArray([1.], dtype=float32)\n",
    "lax.cond(False, lambda x: x+1, lambda x: x-1, operand) #Output: DeviceArray([-1.], dtype=float32)"
   ]
  },
  {
   "cell_type": "markdown",
   "metadata": {},
   "source": [
    "``lax.select`` is used to choose between two arrays based on boolean condition"
   ]
  },
  {
   "cell_type": "code",
   "execution_count": 37,
   "metadata": {},
   "outputs": [
    {
     "name": "stdout",
     "output_type": "stream",
     "text": [
      "[ 1. -2.  3.]\n"
     ]
    }
   ],
   "source": [
    "condition = jnp.array([True, False, True])\n",
    "on_true = jnp.array([1., 2., 3.])\n",
    "on_false = jnp.array([-1., -2., -3.])\n",
    "\n",
    "result = lax.select(condition, on_true, on_false)  \n",
    "print(result)  # Output: DeviceArray([ 1., -2.,  3.], dtype=float32)"
   ]
  },
  {
   "cell_type": "markdown",
   "metadata": {},
   "source": [
    "``lax.switch`` is used to choose between __multiple callable choices__ based on single scalar index."
   ]
  },
  {
   "cell_type": "code",
   "execution_count": 38,
   "metadata": {},
   "outputs": [
    {
     "name": "stdout",
     "output_type": "stream",
     "text": [
      "12\n"
     ]
    }
   ],
   "source": [
    "def f1(x):\n",
    "    return 2*x\n",
    "def f2(x):\n",
    "    return 3*x\n",
    "def f3(x):\n",
    "    return 4*x\n",
    "\n",
    "#using lax.switch to choose a function based on a condition\n",
    "index = 2 \n",
    "x = 3\n",
    "result = lax.switch(index, [f1, f2, f3], x)\n",
    "print(result) #Output: 12"
   ]
  },
  {
   "cell_type": "markdown",
   "metadata": {},
   "source": [
    "``jnp.where`` works with three-argument in Numpy-wrapper for __lax.select__ choosing between two arrays based on boolean condition"
   ]
  },
  {
   "cell_type": "code",
   "execution_count": 39,
   "metadata": {},
   "outputs": [
    {
     "name": "stdout",
     "output_type": "stream",
     "text": [
      "[-1. -2.  3.]\n"
     ]
    }
   ],
   "source": [
    "condition = jnp.array([False, False, True])\n",
    "on_true = jnp.array([1., 2., 3.])\n",
    "on_false = jnp.array([-1., -2., -3.]) \n",
    "\n",
    "#use jnp.where to choose between on_true and on_false based on condition\n",
    "result = jnp.where(condition, on_true, on_false)\n",
    "print(result) #Output: [ -1. -2.  3.]"
   ]
  },
  {
   "cell_type": "markdown",
   "metadata": {},
   "source": [
    "``jnp.piecewise`` is a numpy-wrapper for ``lax.switch``, but instead of a single scalar index, it switches based on a list of boolean conditions."
   ]
  },
  {
   "cell_type": "code",
   "execution_count": 47,
   "metadata": {},
   "outputs": [
    {
     "name": "stdout",
     "output_type": "stream",
     "text": [
      "[0 0 0 0 0 1 2 3 4]\n"
     ]
    }
   ],
   "source": [
    "x = jnp.array([-4, -3, -2, -1, 0, 1, 2, 3, 4])\n",
    "\n",
    "conditions = [x < 0, x >= 0]\n",
    "functions = [lambda x: 0 * x, lambda x: x]\n",
    "\n",
    "result = jnp.piecewise(x, conditions, functions)\n",
    "print(result) #Output: [0 0 0 0 0 1 2 3 4]"
   ]
  },
  {
   "cell_type": "markdown",
   "metadata": {},
   "source": [
    "__while_loop__"
   ]
  },
  {
   "cell_type": "code",
   "execution_count": 48,
   "metadata": {},
   "outputs": [],
   "source": [
    "#python equivalent\n",
    "\n",
    "def while_loop(cond_fun, body_fun, init_val):\n",
    "  val = init_val\n",
    "  while cond_fun(val):\n",
    "    val = body_fun(val)\n",
    "  return val"
   ]
  },
  {
   "cell_type": "code",
   "execution_count": 50,
   "metadata": {},
   "outputs": [
    {
     "name": "stdout",
     "output_type": "stream",
     "text": [
      "10\n"
     ]
    }
   ],
   "source": [
    "#JAX equivalent\n",
    "init_val = 0\n",
    "condition = lambda x: x< 10 \n",
    "function_body = lambda x: x +1\n",
    "result = lax.while_loop(condition, function_body, init_val)\n",
    "print(result) #Output: DeviceArray(10, dtype=int32)"
   ]
  },
  {
   "cell_type": "markdown",
   "metadata": {},
   "source": [
    "__fori_loop__"
   ]
  },
  {
   "cell_type": "code",
   "execution_count": 51,
   "metadata": {},
   "outputs": [],
   "source": [
    "#python equivalent\n",
    "def fori_loop(start, stop, body_func, init_val):\n",
    "    val = init_val\n",
    "    for i in range(start, stop):\n",
    "        val = body_func(i, val)\n",
    "    return val"
   ]
  },
  {
   "cell_type": "code",
   "execution_count": 52,
   "metadata": {},
   "outputs": [
    {
     "data": {
      "text/plain": [
       "Array(45, dtype=int32, weak_type=True)"
      ]
     },
     "execution_count": 52,
     "metadata": {},
     "output_type": "execute_result"
    }
   ],
   "source": [
    "init_val = 0\n",
    "start = 0\n",
    "stop = 10 \n",
    "function_body = lambda i, x: x+i \n",
    "lax.fori_loop(start, stop, function_body, init_val)"
   ]
  },
  {
   "cell_type": "markdown",
   "metadata": {},
   "source": [
    "__Logical Operators__ in JAX are ``logical_and``, ``logical_or``, and ``logical_not`` which operates element-wise on arrays and can be evaluated under __jit-compilation__\n",
    "\n",
    "__Bitwise Operators__ ``(&, |, ~)`` can also be used with __JIT-compilation__"
   ]
  },
  {
   "cell_type": "code",
   "execution_count": 54,
   "metadata": {},
   "outputs": [
    {
     "name": "stdout",
     "output_type": "stream",
     "text": [
      "True\n",
      "False\n"
     ]
    }
   ],
   "source": [
    "def python_check_positive_even(x):\n",
    "    is_even = x % 2 == 0\n",
    "    return is_even and (x > 0)\n",
    "\n",
    "@jit \n",
    "def jax_check_positive_even(x):\n",
    "    is_even = x % 2 == 0\n",
    "    return jnp.logical_and(is_even, x > 0)\n",
    "\n",
    "print(python_check_positive_even(2)) #Output: True \n",
    "print(jax_check_positive_even(5)) #Output: True"
   ]
  },
  {
   "cell_type": "code",
   "execution_count": 55,
   "metadata": {},
   "outputs": [
    {
     "name": "stdout",
     "output_type": "stream",
     "text": [
      "[False  True False  True False  True]\n"
     ]
    }
   ],
   "source": [
    "#can be applied to array as well \n",
    "x = jnp.array([1, 2, 3, 4, 5, 6])\n",
    "print(jax_check_positive_even(x)) #Output: [False  True False  True False  True]"
   ]
  },
  {
   "cell_type": "markdown",
   "metadata": {},
   "source": [
    "__Python control_flow + autodiff__"
   ]
  },
  {
   "cell_type": "code",
   "execution_count": 57,
   "metadata": {},
   "outputs": [
    {
     "name": "stdout",
     "output_type": "stream",
     "text": [
      "-4.0\n",
      "120.0\n"
     ]
    }
   ],
   "source": [
    "def f(x):\n",
    "    if x < 3:\n",
    "        return 30*x ** 2\n",
    "    else:\n",
    "        return - 4 * x\n",
    "    \n",
    "print(grad(f)(3.))\n",
    "print(grad(f)(2.)) #Output: 6.0"
   ]
  },
  {
   "cell_type": "code",
   "execution_count": null,
   "metadata": {},
   "outputs": [],
   "source": []
  }
 ],
 "metadata": {
  "kernelspec": {
   "display_name": "ml_env",
   "language": "python",
   "name": "python3"
  },
  "language_info": {
   "codemirror_mode": {
    "name": "ipython",
    "version": 3
   },
   "file_extension": ".py",
   "mimetype": "text/x-python",
   "name": "python",
   "nbconvert_exporter": "python",
   "pygments_lexer": "ipython3",
   "version": "3.9.9"
  }
 },
 "nbformat": 4,
 "nbformat_minor": 2
}
