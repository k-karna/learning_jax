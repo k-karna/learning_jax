{
 "cells": [
  {
   "cell_type": "markdown",
   "metadata": {},
   "source": [
    "__Pytree__ is a flexible data structure in JAX that represents nested collections like list, tuple, dictionary or custom objects.\n",
    "\n",
    "It can hold other pytree or leaves (non-container objects like array or scalars)"
   ]
  },
  {
   "cell_type": "markdown",
   "metadata": {
    "vscode": {
     "languageId": "plaintext"
    }
   },
   "source": [
    "``tree.leaves`` from ``jax.tree_util`` is used to extract the flattened leave from the trees in JAX"
   ]
  },
  {
   "cell_type": "code",
   "execution_count": 1,
   "metadata": {},
   "outputs": [],
   "source": [
    "import jax\n",
    "import jax.numpy as jnp"
   ]
  },
  {
   "cell_type": "code",
   "execution_count": 3,
   "metadata": {},
   "outputs": [
    {
     "name": "stdout",
     "output_type": "stream",
     "text": [
      "[1, 'a', <object object at 0x00000199837C3040>] has 3 leaves: [1, 'a', <object object at 0x00000199837C3040>]\n",
      "(1, (2, 3), ())                               has 3 leaves: [1, 2, 3]\n",
      "[1, {'k1': 2, 'k2': (3, 4)}, 5]               has 5 leaves: [1, 2, 3, 4, 5]\n",
      "{'a': 2, 'b': (2, 3)}                         has 3 leaves: [2, 2, 3]\n",
      "Array([1, 2, 3], dtype=int32)                 has 1 leaves: [Array([1, 2, 3], dtype=int32)]\n"
     ]
    }
   ],
   "source": [
    "example_trees = [\n",
    "    [1, 'a', object()],\n",
    "    (1, (2,3),()),\n",
    "    [1, {'k1':2, 'k2':(3, 4)},5],\n",
    "    {'a':2, 'b':(2,3)},\n",
    "    jnp.array([1,2,3]),\n",
    "]\n",
    "\n",
    "#printing how many leaves the pytree have\n",
    "for pytree in example_trees:\n",
    "    leaves = jax.tree_util.tree_leaves(pytree)\n",
    "    print(f\"{repr(pytree):<45} has {len(leaves)} leaves: {leaves}\")"
   ]
  },
  {
   "cell_type": "markdown",
   "metadata": {},
   "source": [
    "Any object whose type is not in the pytree container registry will be treated as a leaf node in the tree"
   ]
  },
  {
   "cell_type": "markdown",
   "metadata": {},
   "source": [
    "``jax.tree.map`` works analogously to python ``map`` byt transparently operates over entire pytree"
   ]
  },
  {
   "cell_type": "code",
   "execution_count": 4,
   "metadata": {},
   "outputs": [
    {
     "data": {
      "text/plain": [
       "[[2, 4, 6], [2, 4], [2, 4, 6, 8]]"
      ]
     },
     "execution_count": 4,
     "metadata": {},
     "output_type": "execute_result"
    }
   ],
   "source": [
    "list_of_lists = [\n",
    "    [1,2,3],\n",
    "    [1,2],\n",
    "    [1,2,3,4],\n",
    "]\n",
    "\n",
    "jax.tree.map(lambda x:x*2, list_of_lists)"
   ]
  },
  {
   "cell_type": "markdown",
   "metadata": {},
   "source": [
    "``jax.tree.map()`` also allows mapping __N-ary__ function over multiple arguments.\n",
    "\n",
    "Structure of the inputs must match. e.g list mst have same number of elements. Dictionary must have the same keys, etc."
   ]
  },
  {
   "cell_type": "code",
   "execution_count": null,
   "metadata": {},
   "outputs": [
    {
     "data": {
      "text/plain": [
       "[[2, 4, 6], [2, 4], [2, 4, 6, 8]]"
      ]
     },
     "execution_count": 7,
     "metadata": {},
     "output_type": "execute_result"
    }
   ],
   "source": [
    "another_list = list_of_lists\n",
    "jax.tree.map(lambda x, y: x+y, list_of_lists, another_list)"
   ]
  },
  {
   "cell_type": "markdown",
   "metadata": {},
   "source": [
    "##### Example of __jax.tree.map__ with basic ML model parameters of MLP"
   ]
  },
  {
   "cell_type": "code",
   "execution_count": 8,
   "metadata": {},
   "outputs": [],
   "source": [
    "import numpy as np \n",
    "def init_mlp_params(layer_widths):\n",
    "    params = []\n",
    "    for n_in, n_out in zip(layer_widths[:-1], layer_widths[1:]):\n",
    "        params.append(\n",
    "            dict(weights=np.random.normal(size=(n_in, n_out)) * np.sqrt(2/n_in),\n",
    "                 bias=np.ones(shape=(n_out,)))\n",
    "        )\n",
    "    return params\n",
    "params = init_mlp_params([1, 128, 128, 1])"
   ]
  },
  {
   "cell_type": "code",
   "execution_count": 10,
   "metadata": {},
   "outputs": [
    {
     "data": {
      "text/plain": [
       "[{'bias': (128,), 'weights': (1, 128)},\n",
       " {'bias': (128,), 'weights': (128, 128)},\n",
       " {'bias': (1,), 'weights': (128, 1)}]"
      ]
     },
     "execution_count": 10,
     "metadata": {},
     "output_type": "execute_result"
    }
   ],
   "source": [
    "#using jax.tree.map to check the shape of the initial parameters\n",
    "jax.tree.map(lambda x: x.shape, params)"
   ]
  },
  {
   "cell_type": "code",
   "execution_count": 11,
   "metadata": {},
   "outputs": [],
   "source": [
    "#NEXT, define the function for training the MLP Model\n",
    "\n",
    "#defining the forward pass\n",
    "\n",
    "def forward(params, x):\n",
    "\n",
    "    *hidden, last = params\n",
    "    for layer in hidden:\n",
    "        x = jax.nn.relu(x @ layer['weights'] + layer['bias'])\n",
    "    return x @ last['weights'] + last['bias']\n",
    "\n",
    "#define the loss function\n",
    "def loss_fn(params, x, y):\n",
    "    return jnp.mean((forward(params, x) - y) ** 2)\n",
    "\n",
    "#set the learning rate\n",
    "lr = 0.0001\n",
    "\n",
    "#using the stochastic gradient descent, define the parameter\n",
    "#udpate function. Apply @jax.jit for JIT Compilation\n",
    "\n",
    "@jax.jit\n",
    "def update(params, x, y):\n",
    "    #calculate the gradient with jax.grad\n",
    "    grads = jax.grad(loss_fn)(params, x, y)\n",
    "    #Note that grads is a pytree with the same structure as params\n",
    "\n",
    "    return jax.tree_map(lambda p, g: p - lr * g, params, grads)\n"
   ]
  },
  {
   "cell_type": "markdown",
   "metadata": {},
   "source": [
    "#### Custom Pytree NODES"
   ]
  },
  {
   "cell_type": "code",
   "execution_count": 12,
   "metadata": {},
   "outputs": [
    {
     "data": {
      "text/plain": [
       "[<__main__.Special at 0x19984f6a310>, <__main__.Special at 0x19984f5f8b0>]"
      ]
     },
     "execution_count": 12,
     "metadata": {},
     "output_type": "execute_result"
    }
   ],
   "source": [
    "class Special(object):\n",
    "    def __init__(self, x, y):\n",
    "        self.x = x\n",
    "        self.y = y \n",
    "\n",
    "jax.tree.leaves([\n",
    "    Special(0,1),\n",
    "    Special(2,4),\n",
    "])"
   ]
  },
  {
   "cell_type": "code",
   "execution_count": 14,
   "metadata": {},
   "outputs": [],
   "source": [
    "#Using jax.tree.map expecting the leaves to be elements inside tree will be INCORRECT\n",
    "# and throw ERROR \n",
    "\n",
    "# jax.tree.map(lambda x: x+1, [\n",
    "#     Special(0,1),\n",
    "#     Special(2,4),\n",
    "# ])"
   ]
  },
  {
   "cell_type": "markdown",
   "metadata": {},
   "source": [
    "With ``jax.tree_util.register_pytree_node()`` you can extend set of types to be considered __internal nodes__ through a global registry of types"
   ]
  },
  {
   "cell_type": "code",
   "execution_count": 17,
   "metadata": {},
   "outputs": [],
   "source": [
    "from jax.tree_util import register_pytree_node\n",
    "\n",
    "class RegisteredSpecial(Special):\n",
    "  def __repr__(self):\n",
    "    return \"RegisteredSpecial(x={}, y={})\".format(self.x, self.y)\n",
    "\n",
    "def special_flatten(v):\n",
    "  \"\"\"Specifies a flattening recipe.\n",
    "\n",
    "  Params:\n",
    "    v: The value of the registered type to flatten.\n",
    "  Returns:\n",
    "    A pair of an iterable with the children to be flattened recursively,\n",
    "    and some opaque auxiliary data to pass back to the unflattening recipe.\n",
    "    The auxiliary data is stored in the treedef for use during unflattening.\n",
    "    The auxiliary data could be used, for example, for dictionary keys.\n",
    "  \"\"\"\n",
    "  children = (v.x, v.y)\n",
    "  aux_data = None\n",
    "  return (children, aux_data)\n",
    "\n",
    "def special_unflatten(aux_data, children):\n",
    "  \"\"\"Specifies an unflattening recipe.\n",
    "\n",
    "  Params:\n",
    "    aux_data: The opaque data that was specified during flattening of the\n",
    "      current tree definition.\n",
    "    children: The unflattened children\n",
    "\n",
    "  Returns:\n",
    "    A reconstructed object of the registered type, using the specified\n",
    "    children and auxiliary data.\n",
    "  \"\"\"\n",
    "  return RegisteredSpecial(*children)\n",
    "\n",
    "# Global registration\n",
    "register_pytree_node(\n",
    "    RegisteredSpecial,\n",
    "    special_flatten,    # Instruct JAX what are the children nodes.\n",
    "    special_unflatten   # Instruct JAX how to pack back into a `RegisteredSpecial`.\n",
    ")"
   ]
  },
  {
   "cell_type": "code",
   "execution_count": 18,
   "metadata": {},
   "outputs": [
    {
     "data": {
      "text/plain": [
       "[RegisteredSpecial(x=1, y=2), RegisteredSpecial(x=3, y=5)]"
      ]
     },
     "execution_count": 18,
     "metadata": {},
     "output_type": "execute_result"
    }
   ],
   "source": [
    "# Now we can use `jax.tree_map` on `RegisteredSpecial` instances.\n",
    "jax.tree.map(lambda x: x+1, [\n",
    "    RegisteredSpecial(0,1),\n",
    "    RegisteredSpecial(2,4),\n",
    "])"
   ]
  },
  {
   "cell_type": "markdown",
   "metadata": {},
   "source": [
    "``NamedTuple`` python subclass doesn't need to be registered to be considered pytree node"
   ]
  },
  {
   "cell_type": "code",
   "execution_count": 19,
   "metadata": {},
   "outputs": [
    {
     "data": {
      "text/plain": [
       "['foo', 1, 2, 3, 'bar', 4, 5, 6]"
      ]
     },
     "execution_count": 19,
     "metadata": {},
     "output_type": "execute_result"
    }
   ],
   "source": [
    "from typing import NamedTuple, Any \n",
    "\n",
    "class MyOtherContainer(NamedTuple):\n",
    "    name: str\n",
    "    a: Any\n",
    "    b: Any\n",
    "    c: Any\n",
    "jax.tree.leaves([\n",
    "    MyOtherContainer(\"foo\", 1, 2, 3),\n",
    "    MyOtherContainer(\"bar\", 4, 5, 6),\n",
    "])"
   ]
  },
  {
   "cell_type": "markdown",
   "metadata": {},
   "source": [
    "class decorated with ``@dataclass`` are not automatically pytrees. However, they can be registered as pytrees using the \n",
    "``jax.tree_util.register_dataclass`` decorator"
   ]
  },
  {
   "cell_type": "code",
   "execution_count": 20,
   "metadata": {},
   "outputs": [
    {
     "data": {
      "text/plain": [
       "[5.2,\n",
       " 2.4,\n",
       " Array([0., 0., 0., 0.], dtype=float32),\n",
       " 3.1,\n",
       " 1.2,\n",
       " Array([1., 1., 1., 1.], dtype=float32)]"
      ]
     },
     "execution_count": 20,
     "metadata": {},
     "output_type": "execute_result"
    }
   ],
   "source": [
    "from dataclasses import dataclass\n",
    "import functools \n",
    "\n",
    "@functools.partial(jax.tree_util.register_dataclass,\n",
    "                   data_fields=['a', 'b', 'c'],\n",
    "                   meta_fields=['name'])\n",
    "@dataclass\n",
    "class MyDataclassContainer(object):\n",
    "    name: str\n",
    "    a: Any\n",
    "    b: Any\n",
    "    c: Any\n",
    "\n",
    "jax.tree.leaves([\n",
    "    MyDataclassContainer(\"apple\", 5.2, 2.4, jnp.zeros([4])),\n",
    "    MyDataclassContainer(\"banana\", 3.1, 1.2, jnp.ones([4])),\n",
    "])"
   ]
  },
  {
   "cell_type": "markdown",
   "metadata": {},
   "source": [
    "#### Pytrees and JAX Transformation\n",
    "\n",
    "Many JAX functions like ``jax.lax.scan()`` operates over pytree of arrays. JAX functions transformations can be applied to function that accept and outputs pytree of arrays. \n",
    "\n",
    "If optional paramters are required, these can also be pytrees, and their structure must correspond to the pytree structure of the corresponding arguments"
   ]
  },
  {
   "cell_type": "code",
   "execution_count": 25,
   "metadata": {},
   "outputs": [],
   "source": [
    "from jax import vmap\n",
    "#vmap(f, in_axes = (a1, {\"k1\":a2, \"k2\":a3}))\n",
    "\n",
    "#Then\n",
    "\n",
    "#vmap(f, in_axes=(None,0)) equivalent to (None, {\"k1\":0, \"k2\":0})\n",
    "#vmap(f, in_axes= 0) #equivalent to (0, {\"k1\":0, \"k2\":0})"
   ]
  },
  {
   "cell_type": "markdown",
   "metadata": {},
   "source": [
    "#### Explicit Key Paths\n",
    "\n",
    "In a pytree, each leaf has a _key path_. A key path for a leaf is a list of keys, and the type of the key depends on the pytree node type; e.g, key of ``dict`` is different from key for ``tuple``\n",
    "\n",
    "JAX has the following ``jax.tree.util.*`` method for working with key paths:\n",
    "\n",
    "- ``jax.tree.util.tree_flatten_with_path()``. Works similarly to ``jax.tree.flatten()`` but returns key paths\n",
    "- ``jax.tree.util.tree_map_with_path()``: works similarly to ``jax.tree.map()`` but the function also takes key paths as arguments"
   ]
  },
  {
   "cell_type": "code",
   "execution_count": 28,
   "metadata": {},
   "outputs": [
    {
     "name": "stdout",
     "output_type": "stream",
     "text": [
      "Value of tree [0]: 1\n",
      "Value of tree [1]['k1']: 2\n",
      "Value of tree [1]['k2'][0]: 3\n",
      "Value of tree [1]['k2'][1]: 4\n",
      "Value of tree [2].name: foo\n"
     ]
    }
   ],
   "source": [
    "import collections \n",
    "\n",
    "ATuple = collections.namedtuple(\"Atuple\", ('name'))\n",
    "tree = [1, {'k1':2, 'k2':(3,4)}, ATuple(\"foo\")]\n",
    "flattened, _ = jax.tree_util.tree_flatten_with_path(tree)\n",
    "\n",
    "for key_path, value in flattened:\n",
    "    print(f\"Value of tree {jax.tree_util.keystr(key_path)}: {value}\")"
   ]
  },
  {
   "cell_type": "markdown",
   "metadata": {},
   "source": [
    "- ``jax.tree.utils.keystr()`` given a general key path, returns a reader-friendly string expression."
   ]
  },
  {
   "cell_type": "code",
   "execution_count": 29,
   "metadata": {},
   "outputs": [
    {
     "name": "stdout",
     "output_type": "stream",
     "text": [
      "key path of tree [0]:(SequenceKey(idx=0),)\n",
      "key path of tree [1]['k1']:(SequenceKey(idx=1), DictKey(key='k1'))\n",
      "key path of tree [1]['k2'][0]:(SequenceKey(idx=1), DictKey(key='k2'), SequenceKey(idx=0))\n",
      "key path of tree [1]['k2'][1]:(SequenceKey(idx=1), DictKey(key='k2'), SequenceKey(idx=1))\n",
      "key path of tree [2].name:(SequenceKey(idx=2), GetAttrKey(name='name'))\n"
     ]
    }
   ],
   "source": [
    "for key_path, _ in flattened:\n",
    "    print(f\"key path of tree {jax.tree_util.keystr(key_path)}:{repr(key_path)}\")"
   ]
  },
  {
   "cell_type": "markdown",
   "metadata": {},
   "source": [
    "Default Key Types for the built-in pytree nodes are:\n",
    " - ``SequenceKey(idx: int)`` for lists and tuples\n",
    " - ``DictKey(Key:hashable)`` for dictionaries\n",
    " - ``GetAttrKey(name:str)`` for ``namedtuples`` "
   ]
  },
  {
   "cell_type": "markdown",
   "metadata": {},
   "source": [
    "To Transpose a pytree (turn a list of trees into a tree of lists), JAX has two functions: ``jax.tree.map()`` and ``jax.tree.transpose`` (more flexible, complex, and verbose)"
   ]
  },
  {
   "cell_type": "code",
   "execution_count": 30,
   "metadata": {},
   "outputs": [
    {
     "data": {
      "text/plain": [
       "{'obs': [3, 4], 't': [1, 2]}"
      ]
     },
     "execution_count": 30,
     "metadata": {},
     "output_type": "execute_result"
    }
   ],
   "source": [
    "def tree_transpose(list_of_trees):\n",
    "\n",
    "    return jax.tree.map(lambda *xs: list(xs), *list_of_trees)\n",
    "\n",
    "#convert a dataset from row-major to column-major\n",
    "episode_steps = [dict(t=1, obs=3), dict(t=2, obs=4)]\n",
    "tree_transpose(episode_steps)"
   ]
  },
  {
   "cell_type": "code",
   "execution_count": 32,
   "metadata": {},
   "outputs": [
    {
     "data": {
      "text/plain": [
       "{'obs': [3, 4], 't': [1, 2]}"
      ]
     },
     "execution_count": 32,
     "metadata": {},
     "output_type": "execute_result"
    }
   ],
   "source": [
    "jax.tree.transpose(\n",
    "    outer_treedef=jax.tree.structure([0 for e in episode_steps]),\n",
    "    inner_treedef=jax.tree.structure(episode_steps[0]),\n",
    "    pytree_to_transpose=episode_steps\n",
    ")"
   ]
  },
  {
   "cell_type": "code",
   "execution_count": null,
   "metadata": {},
   "outputs": [],
   "source": []
  }
 ],
 "metadata": {
  "kernelspec": {
   "display_name": "ml_env",
   "language": "python",
   "name": "python3"
  },
  "language_info": {
   "codemirror_mode": {
    "name": "ipython",
    "version": 3
   },
   "file_extension": ".py",
   "mimetype": "text/x-python",
   "name": "python",
   "nbconvert_exporter": "python",
   "pygments_lexer": "ipython3",
   "version": "3.9.9"
  }
 },
 "nbformat": 4,
 "nbformat_minor": 2
}
