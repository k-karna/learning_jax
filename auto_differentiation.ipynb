{
 "cells": [
  {
   "cell_type": "code",
   "execution_count": 1,
   "metadata": {},
   "outputs": [],
   "source": [
    "import jax \n",
    "import jax.numpy as jnp \n",
    "from jax import grad "
   ]
  },
  {
   "cell_type": "markdown",
   "metadata": {},
   "source": [
    "``jax.grad`` takes a function and returns a function. \n",
    "So, if we have mathematical function $f$ function, ``jax.grad(f)`` is a Python that evaluates the mathematical function $∇ f$. So, ``grad(f)(x)`` evaluates $∇ f(x)$"
   ]
  },
  {
   "cell_type": "code",
   "execution_count": 2,
   "metadata": {},
   "outputs": [
    {
     "name": "stdout",
     "output_type": "stream",
     "text": [
      "0.070650816\n"
     ]
    }
   ],
   "source": [
    "grad_tanh = grad(jnp.tanh)\n",
    "print(grad_tanh(2.0)) "
   ]
  },
  {
   "cell_type": "markdown",
   "metadata": {},
   "source": [
    "Also, as ``jax.grad`` operates on functions, functions can be applied as many times as needed"
   ]
  },
  {
   "cell_type": "code",
   "execution_count": 3,
   "metadata": {},
   "outputs": [
    {
     "name": "stdout",
     "output_type": "stream",
     "text": [
      "-0.13621868\n",
      "0.25265405\n"
     ]
    }
   ],
   "source": [
    "print(grad(grad(jnp.tanh))(2.0))\n",
    "print(grad(grad(grad(jnp.tanh)))(2.0))"
   ]
  },
  {
   "cell_type": "markdown",
   "metadata": {},
   "source": [
    "Lets consider a function:\n",
    "\n",
    "$ f(x) = x^3 + 2x^2 - 3x + 1$\n",
    "\n",
    "We can get its higher-order derivatives as\n",
    "\n",
    "$f'(x) = 3x^2 + 4x -3$\n",
    "\n",
    "$f''(x) = 6x + 4$\n",
    "\n",
    "$f'''(x) = 6$\n",
    "\n",
    "$f^(iv) = 0$\n",
    "\n",
    "With ``jax.grad`` it is simple, and we can chain it up"
   ]
  },
  {
   "cell_type": "code",
   "execution_count": 4,
   "metadata": {},
   "outputs": [],
   "source": [
    "f = lambda x: x**3 + 2*x**2 - 3*x + 1\n",
    "\n",
    "dfdx = grad(f)"
   ]
  },
  {
   "cell_type": "code",
   "execution_count": 5,
   "metadata": {},
   "outputs": [
    {
     "name": "stdout",
     "output_type": "stream",
     "text": [
      "4.0\n",
      "10.0\n",
      "6.0\n",
      "0.0\n"
     ]
    }
   ],
   "source": [
    "d2fdx = jax.grad(dfdx)\n",
    "d3fdx = jax.grad(d2fdx)\n",
    "d4fdx = jax.grad(d3fdx)\n",
    "\n",
    "# Using x = 1\n",
    "\n",
    "print(dfdx(1.0))\n",
    "print(d2fdx(1.0))\n",
    "print(d3fdx(1.0))\n",
    "print(d4fdx(1.0))"
   ]
  },
  {
   "cell_type": "markdown",
   "metadata": {},
   "source": [
    "### Computing Gradients in Linear Logistic Regression"
   ]
  },
  {
   "cell_type": "code",
   "execution_count": 6,
   "metadata": {},
   "outputs": [],
   "source": [
    "key = jax.random.key(0) \n",
    "\n",
    "def sigmoid(x):\n",
    "    return 0.5 * (jnp.tanh(x / 2) + 1)\n",
    "\n",
    "#outputs probability of a label being true \n",
    "def predict(W, b, inputs):\n",
    "    return sigmoid(jnp.dot(inputs, W) + b)\n",
    "\n",
    "#build a toy dataset\n",
    "inputs = jnp.array([[0.52, 1.12,  0.77],\n",
    "                     [0.88, -1.08, 0.15],\n",
    "                     [0.52, 0.06, -1.30],\n",
    "                     [0.74, -2.49, 1.39]])\n",
    "\n",
    "targets = jnp.array([True, True, False, True])"
   ]
  },
  {
   "cell_type": "code",
   "execution_count": 7,
   "metadata": {},
   "outputs": [],
   "source": [
    "#Training loss is the negative log-likelihood of the training examples\n",
    "def loss(W, b):\n",
    "    preds = predict(W, b, inputs)\n",
    "    label_probs = preds * targets + (1 - preds) * (1 - targets)\n",
    "    return -jnp.sum(jnp.log(label_probs))"
   ]
  },
  {
   "cell_type": "code",
   "execution_count": 8,
   "metadata": {},
   "outputs": [],
   "source": [
    "#initialise parameters randomly\n",
    "key, W_key, b_key = jax.random.split(key, 3)\n",
    "W = jax.random.normal(W_key, (3,))\n",
    "b = jax.random.normal(b_key, ())"
   ]
  },
  {
   "cell_type": "code",
   "execution_count": 9,
   "metadata": {},
   "outputs": [
    {
     "name": "stdout",
     "output_type": "stream",
     "text": [
      "W_grad=Array([-0.16965583, -0.8774644 , -1.4901346 ], dtype=float32)\n",
      "b_grad=Array(-0.29227245, dtype=float32)\n",
      "W_grad=Array([-0.16965583, -0.8774644 , -1.4901346 ], dtype=float32)\n",
      "b_grad=Array(-0.29227245, dtype=float32)\n"
     ]
    }
   ],
   "source": [
    "W_grad = grad(loss, argnums=0)(W, b) #argnums=0 is default\n",
    "print(f\"{W_grad=}\")\n",
    "\n",
    "b_grad = grad(loss, 1)(W, b)\n",
    "print(f\"{b_grad=}\")\n",
    "\n",
    "#We can also use tuple value to initialize the parameters W and b\n",
    "W_grad, b_grad = grad(loss, (0, 1))(W, b)\n",
    "print(f\"{W_grad=}\")\n",
    "print(f\"{b_grad=}\")"
   ]
  },
  {
   "cell_type": "markdown",
   "metadata": {},
   "source": [
    "#### Differentiating with respect to nested lists, tuples, and dicts\n",
    "\n",
    "As JAX has pytree abstraction, differentiating works perfectly well with tuples, list, and dicts as any python container"
   ]
  },
  {
   "cell_type": "code",
   "execution_count": 10,
   "metadata": {},
   "outputs": [
    {
     "name": "stdout",
     "output_type": "stream",
     "text": [
      "{'W': Array([-0.16965583, -0.8774644 , -1.4901346 ], dtype=float32), 'b': Array(-0.29227245, dtype=float32)}\n"
     ]
    }
   ],
   "source": [
    "def loss2(param_dict):\n",
    "    preds = predict(param_dict['W'], param_dict['b'], inputs)\n",
    "    label_probs = preds * targets + (1 - preds) * (1 - targets)\n",
    "    return -jnp.sum(jnp.log(label_probs))\n",
    "\n",
    "print(grad(loss2)({'W': W, 'b': b}))"
   ]
  },
  {
   "cell_type": "markdown",
   "metadata": {},
   "source": [
    "Evaluating a function and its gradient using ``jax.value_and_grad``. It computes both a function'value as well as its gradients'value in one pass"
   ]
  },
  {
   "cell_type": "code",
   "execution_count": 14,
   "metadata": {},
   "outputs": [
    {
     "name": "stdout",
     "output_type": "stream",
     "text": [
      "loss value: 3.051938533782959\n",
      "Wb_grad: (Array([-0.16965583, -0.8774644 , -1.4901346 ], dtype=float32), Array(-0.29227245, dtype=float32))\n",
      "loss value: 3.051938533782959\n"
     ]
    }
   ],
   "source": [
    "loss_value, Wb_grad = jax.value_and_grad(loss, (0,1))(W, b)\n",
    "print(f\"loss value: {loss_value}\")\n",
    "print(f\"Wb_grad: {Wb_grad}\")\n",
    "print(f\"loss value: {loss(W, b)}\")"
   ]
  },
  {
   "cell_type": "markdown",
   "metadata": {},
   "source": [
    "#### Checking against numerical differences"
   ]
  },
  {
   "cell_type": "code",
   "execution_count": 16,
   "metadata": {},
   "outputs": [
    {
     "name": "stdout",
     "output_type": "stream",
     "text": [
      "b_grad_numerical: -0.29325485\n",
      "b_grad_autodiff: -0.29227245\n",
      "W_grad_numerical: -0.2002716\n",
      "W_grad_autodiff: -0.19909117\n"
     ]
    }
   ],
   "source": [
    "#set a step size for finite differences calculations \n",
    "\n",
    "eps = 1e-4\n",
    "\n",
    "#check b_grad with scalar finite differences\n",
    "b_grad_numerical = (loss(W,b + eps/2.) - loss(W, b - eps /2.)) / eps\n",
    "print('b_grad_numerical:', b_grad_numerical)\n",
    "print('b_grad_autodiff:', grad(loss,1)(W,b))\n",
    "\n",
    "#check W_grad with finite differences in a random direction\n",
    "key, subkey = jax.random.split(key)\n",
    "vec = jax.random.normal(subkey, W.shape)\n",
    "unitvec = vec / jnp.sqrt(jnp.vdot(vec, vec))\n",
    "W_grad_numerical = (loss(W + eps /2. * unitvec, b) - loss(W - eps / 2. * unitvec, b)) / eps\n",
    "print('W_grad_numerical:', W_grad_numerical)\n",
    "print('W_grad_autodiff:', jnp.vdot(grad(loss)(W,b), unitvec))\n"
   ]
  },
  {
   "cell_type": "code",
   "execution_count": null,
   "metadata": {},
   "outputs": [],
   "source": []
  }
 ],
 "metadata": {
  "kernelspec": {
   "display_name": "ml_env",
   "language": "python",
   "name": "python3"
  },
  "language_info": {
   "codemirror_mode": {
    "name": "ipython",
    "version": 3
   },
   "file_extension": ".py",
   "mimetype": "text/x-python",
   "name": "python",
   "nbconvert_exporter": "python",
   "pygments_lexer": "ipython3",
   "version": "3.9.9"
  }
 },
 "nbformat": 4,
 "nbformat_minor": 2
}
